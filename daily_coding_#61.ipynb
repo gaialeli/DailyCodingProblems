{
 "cells": [
  {
   "cell_type": "markdown",
   "metadata": {},
   "source": [
    "# Implement integer exponentiation. \n",
    "\n",
    "\n",
    "That is, implement the pow(x, y) function, where x and y are integers and returns x^y.\n",
    "\n",
    "Do this faster than the naive method of repeated multiplication.\n",
    "\n",
    "*For example, pow(2, 10) should return 1024.*"
   ]
  },
  {
   "cell_type": "markdown",
   "metadata": {},
   "source": [
    "### Divide and Conquer"
   ]
  },
  {
   "cell_type": "code",
   "execution_count": 2,
   "metadata": {},
   "outputs": [
    {
     "data": {
      "text/plain": [
       "'\\nBase cases:   \\n\\ny = 0 pow(x,y)= 1\\ny = 1 pow(x,y)= x\\n\\nRecursive case\\n\\npow(x,y) = x*x*x*x*x*...*x (y times)\\npow(x,y) = pow(x*x*...*x)* pow(x*x*...*x) (y/2 times)\\n\\nwhen y % 2 == 0 like above\\n\\nwhen y % 2 != 0 we pull out one x ans use (y-1)/2\\n\\npow(x,y) = x* pow(x*x*...*x)* pow(x*x*...*x) ((y-1)/2 times)\\n'"
      ]
     },
     "execution_count": 2,
     "metadata": {},
     "output_type": "execute_result"
    }
   ],
   "source": [
    "'''\n",
    "Base cases:   \n",
    "\n",
    "y = 0 pow(x,y)= 1\n",
    "y = 1 pow(x,y)= x\n",
    "\n",
    "Recursive case\n",
    "\n",
    "how do we compute the integer exponentiation?\n",
    "pow(x,y) = x*x*x*x*x*...*x (y times)\n",
    "\n",
    "Let's find a way to divide the problem and use recursively the pow() function\n",
    "pow(x,y) = pow(x*x*...*x)* pow(x*x*...*x) (y/2 times each)\n",
    "\n",
    "What are the special cases in this \n",
    "when y % 2 == 0 like above\n",
    "\n",
    "when y % 2 != 0 we pull out one x ans use (y-1)/2\n",
    "\n",
    "pow(x,y) = x* pow(x*x*...*x)* pow(x*x*...*x) ((y-1)/2 times)\n",
    "'''"
   ]
  },
  {
   "cell_type": "code",
   "execution_count": 5,
   "metadata": {},
   "outputs": [],
   "source": [
    "def pow(x,y):\n",
    "    \n",
    "    # base cases\n",
    "    \n",
    "    if y == 0:\n",
    "        return 1\n",
    "    \n",
    "    elif y == 1:\n",
    "        return x\n",
    "    \n",
    "    else: # recursive case\n",
    "        \n",
    "        if y % 2 == 0: # EVEN exponent \n",
    "            \n",
    "            return pow(x, y/2)* pow(x, y/2)\n",
    "        \n",
    "        if y % 2 != 0: # ODD exponent\n",
    "            \n",
    "            return x* pow(x, (y-1)/2)* pow(x, (y-1)/2)\n",
    "            "
   ]
  },
  {
   "cell_type": "code",
   "execution_count": 7,
   "metadata": {},
   "outputs": [
    {
     "data": {
      "text/plain": [
       "1024"
      ]
     },
     "execution_count": 7,
     "metadata": {},
     "output_type": "execute_result"
    }
   ],
   "source": [
    "pow(2,10)"
   ]
  },
  {
   "cell_type": "code",
   "execution_count": null,
   "metadata": {},
   "outputs": [],
   "source": []
  },
  {
   "cell_type": "code",
   "execution_count": null,
   "metadata": {},
   "outputs": [],
   "source": []
  },
  {
   "cell_type": "code",
   "execution_count": null,
   "metadata": {},
   "outputs": [],
   "source": []
  },
  {
   "cell_type": "code",
   "execution_count": null,
   "metadata": {},
   "outputs": [],
   "source": []
  }
 ],
 "metadata": {
  "kernelspec": {
   "display_name": "Python 3",
   "language": "python",
   "name": "python3"
  },
  "language_info": {
   "codemirror_mode": {
    "name": "ipython",
    "version": 3
   },
   "file_extension": ".py",
   "mimetype": "text/x-python",
   "name": "python",
   "nbconvert_exporter": "python",
   "pygments_lexer": "ipython3",
   "version": "3.7.3"
  }
 },
 "nbformat": 4,
 "nbformat_minor": 2
}
