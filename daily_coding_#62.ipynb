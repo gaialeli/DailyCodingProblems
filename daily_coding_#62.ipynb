{
 "cells": [
  {
   "cell_type": "markdown",
   "metadata": {},
   "source": [
    "# NXM paths matrix problem"
   ]
  },
  {
   "cell_type": "markdown",
   "metadata": {},
   "source": [
    "There is an N by M matrix of zeroes. Given N and M, write a function to count the number of ways of starting at the top-left corner and getting to the bottom-right corner. You can only move right or down.\n",
    "\n",
    "For example, given a 2 by 2 matrix, you should return 2, since there are two ways to get to the bottom-right:\n",
    "* Right, then down\n",
    "* Down, then right\n",
    "\n",
    "Given a 5 by 5 matrix, there are 70 ways to get to the bottom-right."
   ]
  },
  {
   "cell_type": "markdown",
   "metadata": {},
   "source": [
    "\n",
    "When we have a path calculation problem this is a dynamic programming problem. It could be also solved as recursive problem.\n",
    "\n",
    "Let's consider a simple case.\n",
    "The MxN matrix is a (1XN) array. In this case there is just one possible path to reach the end corner\n",
    "1 step to the right per each N.\n",
    "\n",
    "Same for (Nx1). 1 path, we fill all the cell with 1 step in order to reach the bottom right of the matrix.\n",
    "\n",
    "If the consider the cell colum 2 row 2 there are 2 possible ways to reach it. RL and LR.\n",
    "This is interesing.\n",
    "\n",
    "Let's move to row 2 column 3. We have 3 different ways to reach the bottom right of the matrix: RRD,DRR and RDR.\n",
    "\n",
    "We see a pattern now. To reach a certain cell of the matrix we need to add the value to reache the top cell and the left cell."
   ]
  },
  {
   "cell_type": "code",
   "execution_count": 21,
   "metadata": {},
   "outputs": [],
   "source": [
    "def count_unique_paths(m, n):\n",
    "    \n",
    "    # create an MxN matrix of zeroes\n",
    "    matrix = [[0 for _ in range(n)] for _ in range(m)]\n",
    "    \n",
    "    #inizialize the first row to 1\n",
    "    \n",
    "    for i in range (m):\n",
    "        \n",
    "        matrix [i][0] = 1\n",
    "    \n",
    "    #inizializde the first column to 1\n",
    "    \n",
    "    for j in range(n):\n",
    "        \n",
    "        matrix [0][j] = 1\n",
    "          \n",
    "    #print(matrix)\n",
    "    \n",
    "    # compute: each cell value is the LEFT cell plus TOP cell\n",
    "    \n",
    "    for i in range(1,m):\n",
    "        \n",
    "        for j in range (1,n):\n",
    "            \n",
    "            matrix[i][j] = matrix[i-1][j] + matrix[i][j-1]\n",
    "            \n",
    "    return matrix[-1][-1]\n",
    "    \n",
    "    \n",
    "\n",
    "    \n",
    "    "
   ]
  },
  {
   "cell_type": "code",
   "execution_count": 22,
   "metadata": {},
   "outputs": [
    {
     "data": {
      "text/plain": [
       "28"
      ]
     },
     "execution_count": 22,
     "metadata": {},
     "output_type": "execute_result"
    }
   ],
   "source": [
    "count_unique_paths(3,7)"
   ]
  },
  {
   "cell_type": "code",
   "execution_count": null,
   "metadata": {},
   "outputs": [],
   "source": []
  }
 ],
 "metadata": {
  "kernelspec": {
   "display_name": "Python 3",
   "language": "python",
   "name": "python3"
  },
  "language_info": {
   "codemirror_mode": {
    "name": "ipython",
    "version": 3
   },
   "file_extension": ".py",
   "mimetype": "text/x-python",
   "name": "python",
   "nbconvert_exporter": "python",
   "pygments_lexer": "ipython3",
   "version": "3.7.3"
  }
 },
 "nbformat": 4,
 "nbformat_minor": 2
}
