{
 "cells": [
  {
   "cell_type": "markdown",
   "metadata": {},
   "source": [
    "# The sum of two numbers add up to a target value\n",
    "\n",
    "\n",
    "Given a list of numbers and a number k, return whether any two numbers from the list add up to k.\n",
    "\n",
    "For example, given [10, 15, 3, 7] and k of 17, return true since 10 + 7 is 17"
   ]
  },
  {
   "cell_type": "markdown",
   "metadata": {},
   "source": [
    "### Solution O(1) by using dictionary\n",
    "\n",
    "- create an empty dictionary\n",
    "\n",
    "- for each element of the list \n",
    "    - calculate delta = target - current element\n",
    "    - look for delta in the dictionary\n",
    "      **-> it's in the dictionary:** you have a match.The delta and the corrent element add to target. Save this couple in a list \n",
    "      **-> it isn't in the dictionary:** look the next list element\n",
    "      \n",
    "- save the current element in the  dictionary \n",
    "\n",
    "\n"
   ]
  },
  {
   "cell_type": "code",
   "execution_count": 53,
   "metadata": {},
   "outputs": [],
   "source": [
    "def twoSum(lst, target):\n",
    "    \n",
    "    match =[] # return values\n",
    "    \n",
    "    dic = {}\n",
    "    \n",
    "    for i in range(len(lst)):\n",
    "        \n",
    "        delta = target - lst[i]\n",
    "        \n",
    "        if delta in dic:\n",
    "            \n",
    "            match.append([lst[i], delta])\n",
    "            \n",
    "        dic[lst[i]] = lst[i]\n",
    "        \n",
    "        #print(dic) #we save k value as lst[i] in this case because we don't need to use the index of the list\n",
    "    \n",
    "    return match      "
   ]
  },
  {
   "cell_type": "code",
   "execution_count": 54,
   "metadata": {},
   "outputs": [],
   "source": [
    "# test 1: 1 match\n",
    "lst = [10, 15, 3, 7]"
   ]
  },
  {
   "cell_type": "code",
   "execution_count": 55,
   "metadata": {},
   "outputs": [],
   "source": [
    "target = 17"
   ]
  },
  {
   "cell_type": "code",
   "execution_count": 56,
   "metadata": {},
   "outputs": [
    {
     "data": {
      "text/plain": [
       "[[7, 10]]"
      ]
     },
     "execution_count": 56,
     "metadata": {},
     "output_type": "execute_result"
    }
   ],
   "source": [
    "#call the function\n",
    "twoSum(lst, target)"
   ]
  },
  {
   "cell_type": "code",
   "execution_count": 57,
   "metadata": {},
   "outputs": [
    {
     "data": {
      "text/plain": [
       "[[2, 5], [11, -4]]"
      ]
     },
     "execution_count": 57,
     "metadata": {},
     "output_type": "execute_result"
    }
   ],
   "source": [
    "# test 2: 2 matches \n",
    "\n",
    "lst = [3,5,2,-4,8,11]\n",
    "target = 7\n",
    "\n",
    "twoSum(lst, target)"
   ]
  },
  {
   "cell_type": "code",
   "execution_count": 70,
   "metadata": {},
   "outputs": [],
   "source": [
    "# I want to save {k:v} = {index : value}\n",
    "\n",
    "def twoSum(lst, target):\n",
    "    \n",
    "    match =[] # return values\n",
    "    \n",
    "    dic = {}\n",
    "    \n",
    "    for i in range(len(lst)):\n",
    "        \n",
    "        delta = target - lst[i]\n",
    "        \n",
    "        if delta in dic.values(): \n",
    "            \n",
    "            match.append([lst[i], delta])\n",
    "            \n",
    "        dic[i] = lst[i]\n",
    "        \n",
    "        # print(dic) # {key:value} {index: value} \n",
    "    \n",
    "    return match "
   ]
  },
  {
   "cell_type": "code",
   "execution_count": 71,
   "metadata": {},
   "outputs": [
    {
     "name": "stdout",
     "output_type": "stream",
     "text": [
      "{0: 3}\n",
      "{0: 3, 1: 5}\n",
      "{0: 3, 1: 5, 2: 2}\n",
      "{0: 3, 1: 5, 2: 2, 3: -4}\n",
      "{0: 3, 1: 5, 2: 2, 3: -4, 4: 8}\n",
      "{0: 3, 1: 5, 2: 2, 3: -4, 4: 8, 5: 11}\n"
     ]
    },
    {
     "data": {
      "text/plain": [
       "[[2, 5], [11, -4]]"
      ]
     },
     "execution_count": 71,
     "metadata": {},
     "output_type": "execute_result"
    }
   ],
   "source": [
    "lst = [3,5,2,-4,8,11]\n",
    "target = 7\n",
    "\n",
    "twoSum(lst, target)"
   ]
  },
  {
   "cell_type": "code",
   "execution_count": null,
   "metadata": {},
   "outputs": [],
   "source": []
  },
  {
   "cell_type": "code",
   "execution_count": null,
   "metadata": {},
   "outputs": [],
   "source": []
  }
 ],
 "metadata": {
  "kernelspec": {
   "display_name": "Python 3",
   "language": "python",
   "name": "python3"
  },
  "language_info": {
   "codemirror_mode": {
    "name": "ipython",
    "version": 3
   },
   "file_extension": ".py",
   "mimetype": "text/x-python",
   "name": "python",
   "nbconvert_exporter": "python",
   "pygments_lexer": "ipython3",
   "version": "3.7.3"
  }
 },
 "nbformat": 4,
 "nbformat_minor": 2
}
