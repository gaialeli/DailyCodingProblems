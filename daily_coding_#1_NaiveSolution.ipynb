{
 "cells": [
  {
   "cell_type": "markdown",
   "metadata": {},
   "source": [
    "# The sum of two numbers add up to a target value\n",
    "\n",
    "\n",
    "Given a list of numbers and a number k, return whether any two numbers from the list add up to k.\n",
    "\n",
    "For example, given [10, 15, 3, 7] and k of 17, return true since 10 + 7 is 17"
   ]
  },
  {
   "cell_type": "code",
   "execution_count": 1,
   "metadata": {},
   "outputs": [],
   "source": [
    "# NAIVE SOLUTION: loop twice throught the list O(n^2)\n",
    "# Add each element of the list with any other element of the list and check if they add up to target\n",
    "\n",
    "def twoSum_naive(lst, target):\n",
    "    \n",
    "    l = []\n",
    "    \n",
    "    # first addend in the addition\n",
    "    for i in range(len(lst)-1): \n",
    "        for j in range(i+1, len(lst)):# second addend\n",
    "            \n",
    "            if lst[i]+lst[j] == target: # if any combination adds up to target\n",
    "                \n",
    "                l.append([lst[i],lst[j]])\n",
    "                \n",
    "    return l"
   ]
  },
  {
   "cell_type": "code",
   "execution_count": 2,
   "metadata": {},
   "outputs": [],
   "source": [
    "# test 1: 1 match\n",
    "lst = [10, 15, 3, 7]"
   ]
  },
  {
   "cell_type": "code",
   "execution_count": 3,
   "metadata": {},
   "outputs": [],
   "source": [
    "target = 17"
   ]
  },
  {
   "cell_type": "code",
   "execution_count": 4,
   "metadata": {},
   "outputs": [
    {
     "data": {
      "text/plain": [
       "[[10, 7]]"
      ]
     },
     "execution_count": 4,
     "metadata": {},
     "output_type": "execute_result"
    }
   ],
   "source": [
    "twoSum_naive(lst, target)"
   ]
  },
  {
   "cell_type": "code",
   "execution_count": 5,
   "metadata": {},
   "outputs": [
    {
     "data": {
      "text/plain": [
       "[[5, 2], [-4, 11]]"
      ]
     },
     "execution_count": 5,
     "metadata": {},
     "output_type": "execute_result"
    }
   ],
   "source": [
    "# test 1: 2 matches \n",
    "\n",
    "lst = [3,5,2,-4,8,11]\n",
    "target = 7\n",
    "\n",
    "twoSum_naive(lst, target)"
   ]
  }
 ],
 "metadata": {
  "kernelspec": {
   "display_name": "Python 3",
   "language": "python",
   "name": "python3"
  },
  "language_info": {
   "codemirror_mode": {
    "name": "ipython",
    "version": 3
   },
   "file_extension": ".py",
   "mimetype": "text/x-python",
   "name": "python",
   "nbconvert_exporter": "python",
   "pygments_lexer": "ipython3",
   "version": "3.7.3"
  }
 },
 "nbformat": 4,
 "nbformat_minor": 2
}
